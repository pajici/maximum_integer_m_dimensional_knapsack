{
 "cells": [
  {
   "cell_type": "code",
   "execution_count": 84,
   "id": "90fa2923-1b24-4aba-9a7b-449ded2a6461",
   "metadata": {},
   "outputs": [],
   "source": [
    "import numpy as np\n",
    "import random"
   ]
  },
  {
   "cell_type": "code",
   "execution_count": 85,
   "id": "4ab82bd9-4f03-484e-857e-87f66475578a",
   "metadata": {},
   "outputs": [],
   "source": [
    "#Brute-force method for validation\n",
    "def brute_force_knapsack(A, b, c):\n",
    "    n = len(c)\n",
    "    best_value = 0\n",
    "    best_solution = None\n",
    "\n",
    "    #Iterate over all possible combinations of x\n",
    "    for x in range(2 ** n):\n",
    "        solution = [int(i) for i in bin(x)[2:].zfill(n)]\n",
    "\n",
    "        #Check constraints\n",
    "        if np.all(np.dot(A, solution) <= b):\n",
    "            value = np.dot(c, solution)\n",
    "            if value > best_value:\n",
    "                best_value = value\n",
    "                best_solution = solution\n",
    "\n",
    "    return best_value, best_solution"
   ]
  },
  {
   "cell_type": "code",
   "execution_count": 86,
   "id": "53119781-2388-4463-a56a-097e0928674d",
   "metadata": {},
   "outputs": [],
   "source": [
    "def generate_problem_instance(m, n, seed=42):\n",
    "    np.random.seed(seed)\n",
    "    A = np.random.randint(1, 50, size=(m,n))\n",
    "    b = np.random.randint(10, 100, size=m)\n",
    "    c = np.random.randint(1, 100, size=n)\n",
    "    return A, b, c"
   ]
  },
  {
   "cell_type": "code",
   "execution_count": 87,
   "id": "86f82b4d-65cc-4137-bd71-b244c7101c0b",
   "metadata": {},
   "outputs": [
    {
     "name": "stdout",
     "output_type": "stream",
     "text": [
      "Matrix A:\n",
      "[[39 29 15 43  8 21 39 19 23 11 11 24 36 40 24]\n",
      " [ 3 22  2 24 44 30 38  2 21 33 12 22 44 25 49]\n",
      " [27 42 28 16 15 47 44  3 37  7 21  9 39 18  4]\n",
      " [25 14  9 26  2 20 28 47  7 44  8 47 35 14 17]\n",
      " [36 40  4  2  6 42  4 29 18 26 44 34 10 36 14]\n",
      " [31 48 15  8 14 23 40 21 16 45 18 47 24 26 25]\n",
      " [45 41 29 15 45  1 25  7  9 24  1 44  8 24 11]\n",
      " [17  8 35 35 33  5 42 39 41 28  7  9  8 12 34]\n",
      " [33 48 23 24 37 35 44 40 22 27 35  1 35 37 47]\n",
      " [14  3  1  5 26 14 39 27  9 15 15 26 42 13 32]]\n",
      "Vector b: [61 13 32 24 52 38 45 22 41 80]\n",
      "Vector c: [59 86 28 66 42 45 62 57  6 28 28 44 84 30 62]\n",
      "\n",
      "Solving with brute-force:\n",
      "Optimal value: 28\n",
      "Optimal solution: [0, 0, 0, 0, 0, 0, 0, 0, 0, 0, 1, 0, 0, 0, 0]\n"
     ]
    }
   ],
   "source": [
    "m, n = 10, 15\n",
    "A, b, c = generate_problem_instance(m, n)\n",
    "\n",
    "print(\"Matrix A:\")\n",
    "print(A)\n",
    "print(\"Vector b:\", b)\n",
    "print(\"Vector c:\", c)\n",
    "\n",
    "#Solve with brute-force\"\n",
    "print(\"\\nSolving with brute-force:\")\n",
    "bf_value, bf_solution = brute_force_knapsack(A, b, c)\n",
    "print(\"Optimal value:\", bf_value)\n",
    "print(\"Optimal solution:\", bf_solution)"
   ]
  },
  {
   "cell_type": "code",
   "execution_count": 88,
   "id": "0ba0b846-df04-4255-9db9-ccdabcde3fa9",
   "metadata": {},
   "outputs": [
    {
     "name": "stdout",
     "output_type": "stream",
     "text": [
      "Test 1:\n",
      "Optimal value: 10\n",
      "And it should be: 10\n",
      "Solution: [1]\n",
      "And it should be: [1]\n",
      "------------------------------\n",
      "Test 2:\n",
      "Optimal value: 25\n",
      "And it should be: 25\n",
      "Solution: [1, 1]\n",
      "And it should be: [1, 1]\n",
      "------------------------------\n",
      "Test 3:\n",
      "Optimal value: 55\n",
      "And it should be: 55\n",
      "Solution: [0, 1, 1]\n",
      "And it should be: [0, 1, 1]\n",
      "------------------------------\n",
      "Test 4:\n",
      "Optimal value: 120\n",
      "And it should be: 120\n",
      "Solution: [0, 1, 1, 0, 1]\n",
      "And it should be: [0, 1, 1, 0, 1]\n",
      "------------------------------\n",
      "Test 5:\n",
      "Optimal value: 19\n",
      "And it should be: 19\n",
      "Solution: [1, 1, 0, 0, 0, 1]\n",
      "And it should be: [1, 1, 0, 0, 0, 1]\n",
      "------------------------------\n",
      "Test 6:\n",
      "Optimal value: 339\n",
      "And it should be: -200\n",
      "Solution: [1, 0, 0, 1, 0, 1, 0, 0, 1, 1, 1, 0]\n",
      "And it should be: [-200]\n",
      "------------------------------\n",
      "Test 7:\n",
      "Optimal value: 321\n",
      "And it should be: 99999\n",
      "Solution: [1, 1, 1, 1, 1, 1, 1, 1, 1, 1, 1, 1, 1, 1, 1]\n",
      "And it should be: [1, 1, 1]\n",
      "------------------------------\n",
      "Test 8:\n",
      "Optimal value: 0\n",
      "And it should be: 0\n",
      "Solution: None\n",
      "And it should be: [0, 0, 0, 0, 0, 0, 0, 0]\n",
      "------------------------------\n",
      "Test 9:\n",
      "Optimal value: 0\n",
      "And it should be: 0\n",
      "Solution: None\n",
      "And it should be: [0, 0, 0, 0, 0]\n",
      "------------------------------\n",
      "Test 10:\n",
      "Optimal value: 150\n",
      "And it should be: 150\n",
      "Solution: [1, 1, 1, 1, 1]\n",
      "And it should be: [1, 1, 1, 1, 1]\n",
      "------------------------------\n"
     ]
    }
   ],
   "source": [
    "test_cases = [\n",
    "    (np.array([[1]]), np.array([1]), np.array([10])),\n",
    "    (np.array([[1, 2]]), np.array([3]), np.array([10, 15])),\n",
    "    (np.array([[1, 2, 3]]), np.array([5]), np.array([10, 15, 40])),\n",
    "    (np.array([[2, 3, 1, 4, 5], [3, 2, 2, 5, 4]]), np.array([10, 8]), np.array([20, 30, 40, 10, 50])),\n",
    "    (np.array([[1, 1, 1, 1, 1, 1]]), np.array([3]), np.array([5, 4, 3, 2, 1, 10])),\n",
    "    (np.array(np.random.randint(1, 5, size=(3, 12))), np.array([10, 15, 20]), np.array(np.random.randint(1, 100, size=12))),\n",
    "    (np.array([np.ones(15)]), np.array([20]), np.array(np.random.randint(1, 50, size=15))),\n",
    "    (np.array([[5, 6, 7, 8, 9, 10, 11, 12],[5, 6, 7, 8, 9, 10, 11, 12]]), np.array([3, 3]), np.array([10, 20, 30, 40, 50, 60, 70, 80])),\n",
    "    (np.array([[10, 20, 30, 40, 50]]), np.array([5]), np.array([100, 200, 300, 400, 500])),\n",
    "    (np.array([[1, 1, 1, 1, 1]]), np.array([5]), np.array([10, 20, 30, 40, 50]))\n",
    "]\n",
    "\n",
    "optimal_value = [10, 25, 55, 120, 19, -200, 99999, 0, 0, 150]\n",
    "optimal_solutions = [[1], [1,1], [0,1,1], [0,1,1,0,1], [1,1,0,0,0,1], [-200], [1,1,1], [0,0,0,0,0,0,0,0], [0,0,0,0,0], [1,1,1,1,1]]\n",
    "\n",
    "for i, (A, b, c) in enumerate(test_cases):\n",
    "    print(f\"Test {i+1}:\")\n",
    "    value, x = brute_force_knapsack(A, b, c)\n",
    "    print(\"Optimal value:\", value)\n",
    "    print(\"And it should be:\", optimal_value[i])\n",
    "    print(\"Solution:\", x)\n",
    "    print(\"And it should be:\", optimal_solutions[i])\n",
    "    print(\"-\" * 30)"
   ]
  },
  {
   "cell_type": "code",
   "execution_count": null,
   "id": "6eb594f6-5f19-4250-883d-bf7780d483af",
   "metadata": {},
   "outputs": [],
   "source": []
  }
 ],
 "metadata": {
  "kernelspec": {
   "display_name": "Python 3 (ipykernel)",
   "language": "python",
   "name": "python3"
  },
  "language_info": {
   "codemirror_mode": {
    "name": "ipython",
    "version": 3
   },
   "file_extension": ".py",
   "mimetype": "text/x-python",
   "name": "python",
   "nbconvert_exporter": "python",
   "pygments_lexer": "ipython3",
   "version": "3.10.12"
  }
 },
 "nbformat": 4,
 "nbformat_minor": 5
}
